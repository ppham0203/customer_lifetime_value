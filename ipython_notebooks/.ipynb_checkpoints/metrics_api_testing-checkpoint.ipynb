{
  "metadata": {
    "kernelspec": {
      "display_name": "Python (env datascience)",
      "name": "py-dku-venv-datascience",
      "language": "python"
    },
    "language_info": {
      "mimetype": "text/x-python",
      "nbconvert_exporter": "python",
      "version": "3.7.13",
      "name": "python",
      "pygments_lexer": "ipython3",
      "file_extension": ".py",
      "codemirror_mode": {
        "version": 3,
        "name": "ipython"
      }
    },
    "tags": [
      "deleted-recipe-editor"
    ],
    "createdOn": 1654094940074,
    "hide_input": false,
    "modifiedBy": "chris.helmus@dataiku.com",
    "customFields": {},
    "creator": "admin",
    "versionNumber": 1
  },
  "nbformat": 4,
  "nbformat_minor": 1,
  "cells": [
    {
      "execution_count": 0,
      "cell_type": "code",
      "metadata": {},
      "source": [
        "# -*- coding: utf-8 -*-\nimport dataiku\nimport pandas as pd, numpy as np\nfrom dataiku import pandasutils as pd\nfrom myfunctions import create_target\n\n# Read recipe inputs\ncustomer_data_clean \u003d dataiku.Dataset(\"customer_data_clean\")\ndf \u003d customer_data_clean.get_dataframe()\n\n\n# Compute recipe outputs from inputs\n# TODO: Replace this part by your actual code that computes the output, as a Pandas dataframe\n\n\n\n\n# NB: DSS also supports other kinds of APIs for reading and writing data. Please see doc.\n\n"
      ],
      "outputs": []
    },
    {
      "execution_count": 0,
      "cell_type": "code",
      "metadata": {},
      "source": [
        "v \u003d 100\n\ndf.head(1).apply(create_target(df))\n\n\n#df[\u0027high_value_2\u0027] \u003d df.apply(create_target(df))\n"
      ],
      "outputs": []
    },
    {
      "execution_count": 0,
      "cell_type": "code",
      "metadata": {},
      "source": [
        ""
      ],
      "outputs": []
    },
    {
      "execution_count": 0,
      "cell_type": "code",
      "metadata": {},
      "source": [
        "custom_python_adls_df \u003d customer_data_clean_df # For this sample code, simply copy input to output\n\n\n# Write recipe outputs\ncustom_python_adls \u003d dataiku.Dataset(\"custom_python_adls\")\ncustom_python_adls.write_with_schema(custom_python_adls_df)"
      ],
      "outputs": []
    }
  ]
}