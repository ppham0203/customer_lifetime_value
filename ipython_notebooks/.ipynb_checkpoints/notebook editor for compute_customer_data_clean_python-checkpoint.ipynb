{
  "nbformat": 4,
  "nbformat_minor": 0,
  "metadata": {
    "kernelspec": {
      "display_name": "Python in CPU-M-1-cpu-4Gb-Ram (builtin env)",
      "language": "python",
      "name": "py-dku-containerized-venv--cpu-m-1-cpu-4gb-ram"
    },
    "associatedRecipe": "compute_customer_data_clean_python",
    "dkuGit": {
      "lastInteraction": 0
    },
    "creationTag": {
      "versionNumber": 0,
      "lastModifiedBy": {
        "login": "chris.helmus@dataiku.com"
      },
      "lastModifiedOn": 1686606067966
    },
    "creator": "chris.helmus@dataiku.com",
    "createdOn": 1686606067966,
    "tags": [
      "recipe-editor"
    ],
    "customFields": {}
  },
  "cells": [
    {
      "cell_type": "markdown",
      "metadata": {},
      "source": [
        "# Python code recipe\n",
        "This is regular python code. Python coders can continue to do what they have already been doing within Dataiku."
      ]
    },
    {
      "cell_type": "code",
      "metadata": {},
      "outputs": [],
      "execution_count": 0,
      "source": [
        "# -*- coding: utf-8 -*-\n",
        "import dataiku\n",
        "import pandas as pd, numpy as np\n",
        "from dataiku import pandasutils as pdu"
      ]
    },
    {
      "cell_type": "markdown",
      "metadata": {},
      "source": [
        "## Read recipe input dataset\n",
        "Dataiku manages data connections to datasources, enforcing security defined on the connections.\n",
        "The `dataiku` API lets you read data from the managed connections as pandas dataframes."
      ]
    },
    {
      "cell_type": "code",
      "metadata": {},
      "outputs": [],
      "execution_count": 0,
      "source": [
        "# Read recipe inputs\n",
        "customer_data_clean \u003d dataiku.Dataset(\"customer_data_clean\")\n",
        "df \u003d customer_data_clean.get_dataframe()"
      ]
    },
    {
      "cell_type": "code",
      "metadata": {},
      "outputs": [],
      "execution_count": 0,
      "source": [
        "df.head()"
      ]
    },
    {
      "cell_type": "markdown",
      "metadata": {},
      "source": [
        "## Drop duplicates\n",
        "This is what this code recipe does."
      ]
    },
    {
      "cell_type": "code",
      "metadata": {},
      "outputs": [],
      "execution_count": 0,
      "source": [
        "#Drop Duplicates\n",
        "df.drop_duplicates(subset\u003d\"customer_id\", keep\u003dFalse, inplace\u003dTrue)"
      ]
    },
    {
      "cell_type": "code",
      "metadata": {},
      "outputs": [],
      "execution_count": 0,
      "source": [
        "df.head()"
      ]
    },
    {
      "cell_type": "markdown",
      "metadata": {},
      "source": [
        "## Write recipe output dataset\n",
        "Use the `dataiku` API to write the resulting pandas dataframe to the Dataiku-managed data connection."
      ]
    },
    {
      "cell_type": "code",
      "metadata": {},
      "outputs": [],
      "execution_count": 0,
      "source": [
        "# Write recipe outputs\n",
        "customer_data_clean_python \u003d dataiku.Dataset(\"customer_data_clean_python\")\n",
        "customer_data_clean_python.write_with_schema(df)"
      ]
    }
  ]
}