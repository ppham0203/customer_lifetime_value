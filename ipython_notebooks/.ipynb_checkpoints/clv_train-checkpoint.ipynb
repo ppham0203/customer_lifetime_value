{
  "metadata": {
    "kernelspec": {
      "display_name": "Python (env ml_flow_py37)",
      "language": "python",
      "name": "py-dku-venv-ml_flow_py37"
    },
    "analyzedDataset": "customer_data_clean_python",
    "creator": "admin",
    "createdOn": 1678120292299,
    "tags": [],
    "customFields": {}
  },
  "nbformat": 4,
  "nbformat_minor": 0,
  "cells": [
    {
      "execution_count": 0,
      "cell_type": "code",
      "metadata": {},
      "source": [
        "%pylab inline"
      ],
      "outputs": []
    },
    {
      "execution_count": 0,
      "cell_type": "code",
      "metadata": {},
      "source": [
        "import dataiku\n",
        "from dataiku import pandasutils as pdu\n",
        "import pandas as pd"
      ],
      "outputs": []
    },
    {
      "execution_count": 0,
      "cell_type": "code",
      "metadata": {},
      "source": [
        "# Read the dataset as a Pandas dataframe in memory\n",
        "# Note: here, we only read the first 100K rows. Other sampling options are available\n",
        "dataset_customer_data_clean_python \u003d dataiku.Dataset(\"customer_data_clean_python\")\n",
        "df \u003d dataset_customer_data_clean_python.get_dataframe(limit\u003d100000)"
      ],
      "outputs": []
    },
    {
      "execution_count": 0,
      "cell_type": "code",
      "metadata": {},
      "source": [
        "# Get some simple descriptive statistics\n",
        "pdu.audit(df)"
      ],
      "outputs": []
    },
    {
      "execution_count": 0,
      "cell_type": "code",
      "metadata": {},
      "source": [],
      "outputs": []
    }
  ]
}