{
  "metadata": {
    "kernelspec": {
      "name": "py-dku-venv-datascience",
      "display_name": "Python (env datascience)",
      "language": "python"
    },
    "language_info": {
      "name": "python",
      "version": "3.6.8",
      "mimetype": "text/x-python",
      "codemirror_mode": {
        "name": "ipython",
        "version": 3
      },
      "pygments_lexer": "ipython3",
      "nbconvert_exporter": "python",
      "file_extension": ".py"
    },
    "tags": [
      "deleted-recipe-editor"
    ],
    "createdOn": 1654094940074,
    "hide_input": false,
    "modifiedBy": "chris.helmus@dataiku.com",
    "customFields": {},
    "creator": "admin",
    "versionNumber": 1
  },
  "nbformat": 4,
  "nbformat_minor": 1,
  "cells": [
    {
      "execution_count": 0,
      "cell_type": "code",
      "metadata": {},
      "source": [
        "# -*- coding: utf-8 -*-\nimport dataiku\nimport pandas as pd, numpy as np\nfrom dataiku import pandasutils as pd\nfrom myfunctions import create_target\n\n# Read recipe inputs\ncustomer_data_clean \u003d dataiku.Dataset(\"customer_data_clean\")\ndf \u003d customer_data_clean.get_dataframe()\n\n\n# Compute recipe outputs from inputs\n# TODO: Replace this part by your actual code that computes the output, as a Pandas dataframe\n\n\n\n\n# NB: DSS also supports other kinds of APIs for reading and writing data. Please see doc.\n\n"
      ],
      "outputs": []
    },
    {
      "execution_count": 0,
      "cell_type": "code",
      "metadata": {},
      "source": [
        "import dataiku\nds \u003d dataiku.Dataset(\u0027last_year_join\u0027)\nhistory \u003d ds.get_metric_history(\u0027records:COUNT_RECORDS\u0027)\nlast_value \u003d history.get(\u0027lastValue\u0027).get(\u0027value\u0027)\nprevious_value \u003d history.get(\u0027values\u0027)[-2].get(\u0027value\u0027)\n\n#percent_change \u003d (last_value - previous_value)/previous_value\n"
      ],
      "outputs": []
    },
    {
      "execution_count": 0,
      "cell_type": "code",
      "metadata": {},
      "source": [
        "previous_value"
      ],
      "outputs": []
    },
    {
      "execution_count": 0,
      "cell_type": "code",
      "metadata": {},
      "source": [
        "custom_python_adls_df \u003d customer_data_clean_df # For this sample code, simply copy input to output\n\n\n# Write recipe outputs\ncustom_python_adls \u003d dataiku.Dataset(\"custom_python_adls\")\ncustom_python_adls.write_with_schema(custom_python_adls_df)"
      ],
      "outputs": []
    }
  ]
}