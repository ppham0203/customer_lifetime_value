{
  "metadata": {
    "kernelspec": {
      "name": "py-dku-containerized-venv--cpu-m-1-cpu-4gb-ram",
      "display_name": "Python in CPU-M-1-cpu-4Gb-Ram (builtin env)",
      "language": "python"
    },
    "associatedRecipe": "compute_customer_data_clean_python",
    "dkuGit": {
      "lastInteraction": 0
    },
    "creationTag": {
      "versionNumber": 0,
      "lastModifiedBy": {
        "login": "chris.helmus@dataiku.com"
      },
      "lastModifiedOn": 1686606067966
    },
    "creator": "chris.helmus@dataiku.com",
    "createdOn": 1686606067966,
    "tags": [
      "recipe-editor"
    ],
    "customFields": {},
    "hide_input": false,
    "language_info": {
      "name": "python",
      "version": "3.6.8",
      "mimetype": "text/x-python",
      "codemirror_mode": {
        "name": "ipython",
        "version": 3
      },
      "pygments_lexer": "ipython3",
      "nbconvert_exporter": "python",
      "file_extension": ".py"
    },
    "modifiedBy": "chris.helmus@dataiku.com"
  },
  "nbformat": 4,
  "nbformat_minor": 1,
  "cells": [
    {
      "cell_type": "markdown",
      "metadata": {},
      "source": [
        "# Python code recipe\nThis is regular python code. Python coders can continue to do what they have already been doing within Dataiku."
      ]
    },
    {
      "execution_count": 0,
      "cell_type": "code",
      "metadata": {},
      "source": [
        "# -*- coding: utf-8 -*-\nimport dataiku\nimport pandas as pd, numpy as np\nfrom dataiku import pandasutils as pdu"
      ],
      "outputs": []
    },
    {
      "cell_type": "markdown",
      "metadata": {},
      "source": [
        "## Read recipe input dataset\nDataiku manages data connections to datasources, enforcing security defined on the connections.\nThe `dataiku` API lets you read data from the managed connections as pandas dataframes."
      ]
    },
    {
      "execution_count": 0,
      "cell_type": "code",
      "metadata": {},
      "source": [
        "# Read recipe inputs\ncustomer_data_clean \u003d dataiku.Dataset(\"customer_data_clean\")\ndf \u003d customer_data_clean.get_dataframe()"
      ],
      "outputs": []
    },
    {
      "execution_count": 0,
      "cell_type": "code",
      "metadata": {},
      "source": [
        "df.head()"
      ],
      "outputs": []
    },
    {
      "cell_type": "markdown",
      "metadata": {},
      "source": [
        "## Drop duplicates\nThis is what this code recipe does."
      ]
    },
    {
      "execution_count": 0,
      "cell_type": "code",
      "metadata": {},
      "source": [
        "#Drop Duplicates\ndf.drop_duplicates(subset\u003d\"customer_id\", keep\u003dFalse, inplace\u003dTrue)"
      ],
      "outputs": []
    },
    {
      "execution_count": 0,
      "cell_type": "code",
      "metadata": {},
      "source": [
        "df.head()"
      ],
      "outputs": []
    },
    {
      "cell_type": "markdown",
      "metadata": {},
      "source": [
        "## Write recipe output dataset\nUse the `dataiku` API to write the resulting pandas dataframe to the Dataiku-managed data connection."
      ]
    },
    {
      "execution_count": 0,
      "cell_type": "code",
      "metadata": {},
      "source": [
        "# Write recipe outputs\ncustomer_data_clean_python \u003d dataiku.Dataset(\"customer_data_clean_python\")\ncustomer_data_clean_python.write_with_schema(df)"
      ],
      "outputs": []
    }
  ]
}