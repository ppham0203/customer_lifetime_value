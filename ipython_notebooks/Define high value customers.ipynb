{
  "metadata": {
    "kernelspec": {
      "display_name": "Python (env mlflow)",
      "name": "py-dku-venv-mlflow",
      "language": "python"
    },
    "language_info": {
      "mimetype": "text/x-python",
      "nbconvert_exporter": "python",
      "version": "3.6.13",
      "name": "python",
      "pygments_lexer": "ipython3",
      "file_extension": ".py",
      "codemirror_mode": {
        "version": 3,
        "name": "ipython"
      }
    },
    "dkuGit": {
      "gitReference": {
        "lastHash": "ee2b6bcdb5eee109d8adc2005c71742a809f106f",
        "remote": "git@github.com:charvey-helmus/dataiku.git",
        "checkout": "main",
        "remotePath": "Define high value customers.ipynb",
        "lastTimestamp": 1631558449000
      },
      "lastInteraction": 1631558450205
    },
    "creator": "admin",
    "createdOn": 1628028127025,
    "hide_input": false,
    "modifiedBy": "admin",
    "analyzedDataset": "SF_joined",
    "customFields": {},
    "tags": []
  },
  "nbformat": 4,
  "nbformat_minor": 1,
  "cells": [
    {
      "cell_type": "markdown",
      "metadata": {},
      "source": [
        "# Create new column to indicate high value customers"
      ]
    },
    {
      "cell_type": "markdown",
      "metadata": {},
      "source": [
        "## Import libraries"
      ]
    },
    {
      "execution_count": 0,
      "cell_type": "code",
      "metadata": {},
      "source": [
        "import dataiku\nfrom dataiku import pandasutils as pdu\nimport pandas as pd\nfrom myfunctions import create_target\n#testing git"
      ],
      "outputs": []
    },
    {
      "cell_type": "markdown",
      "metadata": {},
      "source": [
        "## Read dataset\n###### Dataiku abstracts data access with the `dataiku.Dataset` class.\n\n###### You use the same API to read the data regardless where the data is stored (PostgreSQL, Snowflake, S3, Azure Blob, GCS etc.)"
      ]
    },
    {
      "execution_count": 0,
      "cell_type": "code",
      "metadata": {},
      "source": [
        "# Read the dataset as a Pandas dataframe in memory\n# Note: here, sampling options are available\ndataset_SF_joined \u003d dataiku.Dataset(\"last_year_join\")\ndf \u003d dataset_SF_joined.get_dataframe()"
      ],
      "outputs": []
    },
    {
      "cell_type": "markdown",
      "metadata": {},
      "source": [
        "## Process data in pandas Dataframe"
      ]
    },
    {
      "execution_count": 0,
      "cell_type": "code",
      "metadata": {},
      "source": [
        "# Get some simple descriptive statistics\npdu.audit(df)"
      ],
      "outputs": []
    },
    {
      "cell_type": "markdown",
      "metadata": {},
      "source": [
        "## Set revenue threshold for high-value customers"
      ]
    },
    {
      "execution_count": 0,
      "cell_type": "code",
      "metadata": {},
      "source": [
        "# Cast revenue column to float\n# This converts \u0027unknown\u0027 values to NaN\n# Set threshold for high revenue customer to the median revenue\ndf[\u0027revenue\u0027] \u003d pd.to_numeric(df[\u0027revenue\u0027], errors\u003d\u0027coerce\u0027, downcast\u003d\u0027float\u0027)\nprint(\u0027Median revenue: \u0027 + str(df[\u0027revenue\u0027].median()))\n\n\nhigh_rev \u003d 171\n\ndf.head(10)"
      ],
      "outputs": []
    },
    {
      "cell_type": "markdown",
      "metadata": {},
      "source": [
        "## Create new column `high_value`"
      ]
    },
    {
      "execution_count": 0,
      "cell_type": "code",
      "metadata": {},
      "source": [
        "df[\u0027high_value\u0027] \u003d df.apply(create_target, axis \u003d 1, v \u003d high_rev)\ndf.head(10)"
      ],
      "outputs": []
    },
    {
      "execution_count": 0,
      "cell_type": "code",
      "metadata": {},
      "source": [
        "#py_recipe_output \u003d dataiku.Dataset(\"last_join_with_high_revenue\")\n#py_recipe_output.write_with_schema(df)\n\n"
      ],
      "outputs": []
    },
    {
      "execution_count": 0,
      "cell_type": "code",
      "metadata": {},
      "source": [
        ""
      ],
      "outputs": []
    }
  ]
}